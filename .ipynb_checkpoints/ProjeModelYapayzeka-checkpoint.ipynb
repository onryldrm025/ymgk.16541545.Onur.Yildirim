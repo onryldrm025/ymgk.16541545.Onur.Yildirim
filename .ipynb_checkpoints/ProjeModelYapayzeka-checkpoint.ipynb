{
 "cells": [
  {
   "cell_type": "markdown",
   "metadata": {},
   "source": [
    "## 16541545 Onur Yıldırım  Covid-19 Tl/Usd Etkisi Ve Altına Etkisi"
   ]
  },
  {
   "cell_type": "code",
   "execution_count": 1,
   "metadata": {},
   "outputs": [
    {
     "name": "stderr",
     "output_type": "stream",
     "text": [
      "Using TensorFlow backend.\n"
     ]
    },
    {
     "data": {
      "text/html": [
       "        <script type=\"text/javascript\">\n",
       "        window.PlotlyConfig = {MathJaxConfig: 'local'};\n",
       "        if (window.MathJax) {MathJax.Hub.Config({SVG: {font: \"STIX-Web\"}});}\n",
       "        if (typeof require !== 'undefined') {\n",
       "        require.undef(\"plotly\");\n",
       "        requirejs.config({\n",
       "            paths: {\n",
       "                'plotly': ['https://cdn.plot.ly/plotly-latest.min']\n",
       "            }\n",
       "        });\n",
       "        require(['plotly'], function(Plotly) {\n",
       "            window._Plotly = Plotly;\n",
       "        });\n",
       "        }\n",
       "        </script>\n",
       "        "
      ]
     },
     "metadata": {},
     "output_type": "display_data"
    }
   ],
   "source": [
    "import warnings\n",
    "import itertools\n",
    "from math import sqrt\n",
    "from datetime import datetime\n",
    "from numpy import concatenate\n",
    "import numpy as np\n",
    "import pandas as pd\n",
    "import math\n",
    "from sklearn.preprocessing import MinMaxScaler\n",
    "from sklearn.preprocessing import LabelEncoder\n",
    "from sklearn.metrics import mean_squared_error\n",
    "from keras.models import Sequential\n",
    "from keras.layers import Dense, Dropout, Activation\n",
    "from keras.layers import LSTM, Bidirectional, GRU\n",
    "from keras.layers.recurrent import LSTM\n",
    "from sklearn.utils import shuffle\n",
    "import plotly.offline as py\n",
    "import plotly.graph_objs as go\n",
    "import seaborn as sns\n",
    "import matplotlib.pyplot as plt\n",
    "%matplotlib inline\n",
    "py.init_notebook_mode(connected=True)\n",
    "plt.style.use('fivethirtyeight')\n"
   ]
  },
  {
   "cell_type": "markdown",
   "metadata": {},
   "source": [
    "## I. Aşama Aşama - Veri Toplama"
   ]
  },
  {
   "cell_type": "code",
   "execution_count": 2,
   "metadata": {},
   "outputs": [
    {
     "data": {
      "text/html": [
       "<div>\n",
       "<style scoped>\n",
       "    .dataframe tbody tr th:only-of-type {\n",
       "        vertical-align: middle;\n",
       "    }\n",
       "\n",
       "    .dataframe tbody tr th {\n",
       "        vertical-align: top;\n",
       "    }\n",
       "\n",
       "    .dataframe thead th {\n",
       "        text-align: right;\n",
       "    }\n",
       "</style>\n",
       "<table border=\"1\" class=\"dataframe\">\n",
       "  <thead>\n",
       "    <tr style=\"text-align: right;\">\n",
       "      <th></th>\n",
       "      <th>Tarih</th>\n",
       "      <th>SO2</th>\n",
       "      <th>NO2</th>\n",
       "      <th>NO</th>\n",
       "      <th>O3</th>\n",
       "    </tr>\n",
       "  </thead>\n",
       "  <tbody>\n",
       "    <tr>\n",
       "      <td>0</td>\n",
       "      <td>2020-05-19</td>\n",
       "      <td>NaN</td>\n",
       "      <td>NaN</td>\n",
       "      <td>NaN</td>\n",
       "      <td>71.462933</td>\n",
       "    </tr>\n",
       "    <tr>\n",
       "      <td>1</td>\n",
       "      <td>2020-05-18</td>\n",
       "      <td>17.496093</td>\n",
       "      <td>NaN</td>\n",
       "      <td>NaN</td>\n",
       "      <td>67.072408</td>\n",
       "    </tr>\n",
       "    <tr>\n",
       "      <td>2</td>\n",
       "      <td>2020-05-17</td>\n",
       "      <td>4.627586</td>\n",
       "      <td>NaN</td>\n",
       "      <td>NaN</td>\n",
       "      <td>68.060584</td>\n",
       "    </tr>\n",
       "    <tr>\n",
       "      <td>3</td>\n",
       "      <td>2020-05-16</td>\n",
       "      <td>6.209879</td>\n",
       "      <td>NaN</td>\n",
       "      <td>NaN</td>\n",
       "      <td>78.144781</td>\n",
       "    </tr>\n",
       "    <tr>\n",
       "      <td>4</td>\n",
       "      <td>2020-05-15</td>\n",
       "      <td>6.730319</td>\n",
       "      <td>10.583276</td>\n",
       "      <td>10.812126</td>\n",
       "      <td>58.242350</td>\n",
       "    </tr>\n",
       "  </tbody>\n",
       "</table>\n",
       "</div>"
      ],
      "text/plain": [
       "       Tarih        SO2        NO2         NO         O3\n",
       "0 2020-05-19        NaN        NaN        NaN  71.462933\n",
       "1 2020-05-18  17.496093        NaN        NaN  67.072408\n",
       "2 2020-05-17   4.627586        NaN        NaN  68.060584\n",
       "3 2020-05-16   6.209879        NaN        NaN  78.144781\n",
       "4 2020-05-15   6.730319  10.583276  10.812126  58.242350"
      ]
     },
     "execution_count": 2,
     "metadata": {},
     "output_type": "execute_result"
    }
   ],
   "source": [
    "# Datayı Yükleyelim\n",
    "data = pd.read_excel('verim2.xlsx', date_parser=[0])\n",
    "# İlk 5 Satır\n",
    "data.head()\n"
   ]
  },
  {
   "cell_type": "markdown",
   "metadata": {},
   "source": [
    "## Tarihi index haline getirme"
   ]
  },
  {
   "cell_type": "code",
   "execution_count": 3,
   "metadata": {},
   "outputs": [],
   "source": [
    "data['SO2'].interpolate(method='linear', inplace=True)\n",
    "data['NO2'].interpolate(method='linear', inplace=True)\n",
    "data['NO'].interpolate(method='linear', inplace=True)\n",
    "data['O3'].interpolate(method='linear', inplace=True)\n",
    "\n"
   ]
  },
  {
   "cell_type": "code",
   "execution_count": 4,
   "metadata": {},
   "outputs": [],
   "source": [
    "data['Tarih'] = pd.to_datetime(data.Tarih, format='%Y-%m')\n",
    "#İndex'e Alınması\n",
    "data.index = data.Tarih"
   ]
  },
  {
   "cell_type": "markdown",
   "metadata": {},
   "source": [
    "## Cumartesi Pazarı Çıkarma"
   ]
  },
  {
   "cell_type": "code",
   "execution_count": 5,
   "metadata": {},
   "outputs": [],
   "source": [
    "data.fillna(data.mean(), inplace = True )"
   ]
  },
  {
   "cell_type": "markdown",
   "metadata": {},
   "source": [
    "## Tekrar data"
   ]
  },
  {
   "cell_type": "code",
   "execution_count": 6,
   "metadata": {},
   "outputs": [
    {
     "data": {
      "text/html": [
       "<div>\n",
       "<style scoped>\n",
       "    .dataframe tbody tr th:only-of-type {\n",
       "        vertical-align: middle;\n",
       "    }\n",
       "\n",
       "    .dataframe tbody tr th {\n",
       "        vertical-align: top;\n",
       "    }\n",
       "\n",
       "    .dataframe thead th {\n",
       "        text-align: right;\n",
       "    }\n",
       "</style>\n",
       "<table border=\"1\" class=\"dataframe\">\n",
       "  <thead>\n",
       "    <tr style=\"text-align: right;\">\n",
       "      <th></th>\n",
       "      <th>Tarih</th>\n",
       "      <th>SO2</th>\n",
       "      <th>NO2</th>\n",
       "      <th>NO</th>\n",
       "      <th>O3</th>\n",
       "    </tr>\n",
       "    <tr>\n",
       "      <th>Tarih</th>\n",
       "      <th></th>\n",
       "      <th></th>\n",
       "      <th></th>\n",
       "      <th></th>\n",
       "      <th></th>\n",
       "    </tr>\n",
       "  </thead>\n",
       "  <tbody>\n",
       "    <tr>\n",
       "      <td>2020-05-19</td>\n",
       "      <td>2020-05-19</td>\n",
       "      <td>4.460703</td>\n",
       "      <td>18.002577</td>\n",
       "      <td>9.891487</td>\n",
       "      <td>71.462933</td>\n",
       "    </tr>\n",
       "    <tr>\n",
       "      <td>2020-05-18</td>\n",
       "      <td>2020-05-18</td>\n",
       "      <td>17.496093</td>\n",
       "      <td>18.002577</td>\n",
       "      <td>9.891487</td>\n",
       "      <td>67.072408</td>\n",
       "    </tr>\n",
       "    <tr>\n",
       "      <td>2020-05-17</td>\n",
       "      <td>2020-05-17</td>\n",
       "      <td>4.627586</td>\n",
       "      <td>18.002577</td>\n",
       "      <td>9.891487</td>\n",
       "      <td>68.060584</td>\n",
       "    </tr>\n",
       "    <tr>\n",
       "      <td>2020-05-16</td>\n",
       "      <td>2020-05-16</td>\n",
       "      <td>6.209879</td>\n",
       "      <td>18.002577</td>\n",
       "      <td>9.891487</td>\n",
       "      <td>78.144781</td>\n",
       "    </tr>\n",
       "    <tr>\n",
       "      <td>2020-05-15</td>\n",
       "      <td>2020-05-15</td>\n",
       "      <td>6.730319</td>\n",
       "      <td>10.583276</td>\n",
       "      <td>10.812126</td>\n",
       "      <td>58.242350</td>\n",
       "    </tr>\n",
       "    <tr>\n",
       "      <td>...</td>\n",
       "      <td>...</td>\n",
       "      <td>...</td>\n",
       "      <td>...</td>\n",
       "      <td>...</td>\n",
       "      <td>...</td>\n",
       "    </tr>\n",
       "    <tr>\n",
       "      <td>2017-01-06</td>\n",
       "      <td>2017-01-06</td>\n",
       "      <td>5.968750</td>\n",
       "      <td>15.080952</td>\n",
       "      <td>2.791083</td>\n",
       "      <td>72.646667</td>\n",
       "    </tr>\n",
       "    <tr>\n",
       "      <td>2017-01-05</td>\n",
       "      <td>2017-01-05</td>\n",
       "      <td>9.786250</td>\n",
       "      <td>28.535656</td>\n",
       "      <td>7.465958</td>\n",
       "      <td>60.506250</td>\n",
       "    </tr>\n",
       "    <tr>\n",
       "      <td>2017-01-04</td>\n",
       "      <td>2017-01-04</td>\n",
       "      <td>21.127083</td>\n",
       "      <td>58.508671</td>\n",
       "      <td>17.889542</td>\n",
       "      <td>26.625833</td>\n",
       "    </tr>\n",
       "    <tr>\n",
       "      <td>2017-01-03</td>\n",
       "      <td>2017-01-03</td>\n",
       "      <td>20.040000</td>\n",
       "      <td>58.274346</td>\n",
       "      <td>15.632708</td>\n",
       "      <td>28.588333</td>\n",
       "    </tr>\n",
       "    <tr>\n",
       "      <td>2017-01-02</td>\n",
       "      <td>2017-01-02</td>\n",
       "      <td>5.820833</td>\n",
       "      <td>53.785586</td>\n",
       "      <td>30.020250</td>\n",
       "      <td>23.317500</td>\n",
       "    </tr>\n",
       "  </tbody>\n",
       "</table>\n",
       "<p>1234 rows × 5 columns</p>\n",
       "</div>"
      ],
      "text/plain": [
       "                Tarih        SO2        NO2         NO         O3\n",
       "Tarih                                                            \n",
       "2020-05-19 2020-05-19   4.460703  18.002577   9.891487  71.462933\n",
       "2020-05-18 2020-05-18  17.496093  18.002577   9.891487  67.072408\n",
       "2020-05-17 2020-05-17   4.627586  18.002577   9.891487  68.060584\n",
       "2020-05-16 2020-05-16   6.209879  18.002577   9.891487  78.144781\n",
       "2020-05-15 2020-05-15   6.730319  10.583276  10.812126  58.242350\n",
       "...               ...        ...        ...        ...        ...\n",
       "2017-01-06 2017-01-06   5.968750  15.080952   2.791083  72.646667\n",
       "2017-01-05 2017-01-05   9.786250  28.535656   7.465958  60.506250\n",
       "2017-01-04 2017-01-04  21.127083  58.508671  17.889542  26.625833\n",
       "2017-01-03 2017-01-03  20.040000  58.274346  15.632708  28.588333\n",
       "2017-01-02 2017-01-02   5.820833  53.785586  30.020250  23.317500\n",
       "\n",
       "[1234 rows x 5 columns]"
      ]
     },
     "execution_count": 6,
     "metadata": {},
     "output_type": "execute_result"
    }
   ],
   "source": [
    "data"
   ]
  },
  {
   "cell_type": "markdown",
   "metadata": {},
   "source": [
    "## II. Aşama - Verinin Görselleştirilmesi ve Sunumu"
   ]
  },
  {
   "cell_type": "code",
   "execution_count": 45,
   "metadata": {},
   "outputs": [
    {
     "data": {
      "image/png": "[encoded data removed]",
      "text/plain": [
       "<Figure size 720x360 with 1 Axes>"
      ]
     },
     "metadata": {
      "needs_background": "light"
     },
     "output_type": "display_data"
    }
   ],
   "source": [
    "fig = plt.figure(figsize=(10,5))\n",
    "data.O3.plot(label='O3')\n",
    "plt.legend(loc='best')\n",
    "plt.title('O3', fontsize=14)\n",
    "plt.show()"
   ]
  },
  {
   "cell_type": "markdown",
   "metadata": {},
   "source": [
    "## III. Aşama - Verinin Karakteristiklerinin Analizi"
   ]
  },
  {
   "cell_type": "code",
   "execution_count": 8,
   "metadata": {},
   "outputs": [
    {
     "name": "stdout",
     "output_type": "stream",
     "text": [
      "<class 'pandas.core.frame.DataFrame'>\n",
      "DatetimeIndex: 1234 entries, 2020-05-19 to 2017-01-02\n",
      "Data columns (total 5 columns):\n",
      "Tarih    1234 non-null datetime64[ns]\n",
      "SO2      1234 non-null float64\n",
      "NO2      1234 non-null float64\n",
      "NO       1234 non-null float64\n",
      "O3       1234 non-null float64\n",
      "dtypes: datetime64[ns](1), float64(4)\n",
      "memory usage: 57.8 KB\n"
     ]
    }
   ],
   "source": [
    "data.info()"
   ]
  },
  {
   "cell_type": "code",
   "execution_count": 9,
   "metadata": {},
   "outputs": [
    {
     "data": {
      "text/html": [
       "<div>\n",
       "<style scoped>\n",
       "    .dataframe tbody tr th:only-of-type {\n",
       "        vertical-align: middle;\n",
       "    }\n",
       "\n",
       "    .dataframe tbody tr th {\n",
       "        vertical-align: top;\n",
       "    }\n",
       "\n",
       "    .dataframe thead th {\n",
       "        text-align: right;\n",
       "    }\n",
       "</style>\n",
       "<table border=\"1\" class=\"dataframe\">\n",
       "  <thead>\n",
       "    <tr style=\"text-align: right;\">\n",
       "      <th></th>\n",
       "      <th>count</th>\n",
       "      <th>mean</th>\n",
       "      <th>std</th>\n",
       "      <th>min</th>\n",
       "      <th>25%</th>\n",
       "      <th>50%</th>\n",
       "      <th>75%</th>\n",
       "      <th>max</th>\n",
       "    </tr>\n",
       "  </thead>\n",
       "  <tbody>\n",
       "    <tr>\n",
       "      <td>SO2</td>\n",
       "      <td>1234.0</td>\n",
       "      <td>4.460703</td>\n",
       "      <td>3.850862</td>\n",
       "      <td>0.197660</td>\n",
       "      <td>1.966423</td>\n",
       "      <td>3.387985</td>\n",
       "      <td>5.551941</td>\n",
       "      <td>34.963988</td>\n",
       "    </tr>\n",
       "    <tr>\n",
       "      <td>NO2</td>\n",
       "      <td>1234.0</td>\n",
       "      <td>18.002577</td>\n",
       "      <td>13.564744</td>\n",
       "      <td>1.204498</td>\n",
       "      <td>7.811606</td>\n",
       "      <td>14.609341</td>\n",
       "      <td>24.138569</td>\n",
       "      <td>77.823441</td>\n",
       "    </tr>\n",
       "    <tr>\n",
       "      <td>NO</td>\n",
       "      <td>1234.0</td>\n",
       "      <td>9.891487</td>\n",
       "      <td>11.494883</td>\n",
       "      <td>0.289674</td>\n",
       "      <td>3.092070</td>\n",
       "      <td>6.298482</td>\n",
       "      <td>11.850243</td>\n",
       "      <td>105.695832</td>\n",
       "    </tr>\n",
       "    <tr>\n",
       "      <td>O3</td>\n",
       "      <td>1234.0</td>\n",
       "      <td>56.540058</td>\n",
       "      <td>22.894812</td>\n",
       "      <td>1.881164</td>\n",
       "      <td>40.109027</td>\n",
       "      <td>58.851042</td>\n",
       "      <td>73.954764</td>\n",
       "      <td>132.073750</td>\n",
       "    </tr>\n",
       "  </tbody>\n",
       "</table>\n",
       "</div>"
      ],
      "text/plain": [
       "      count       mean        std       min        25%        50%        75%  \\\n",
       "SO2  1234.0   4.460703   3.850862  0.197660   1.966423   3.387985   5.551941   \n",
       "NO2  1234.0  18.002577  13.564744  1.204498   7.811606  14.609341  24.138569   \n",
       "NO   1234.0   9.891487  11.494883  0.289674   3.092070   6.298482  11.850243   \n",
       "O3   1234.0  56.540058  22.894812  1.881164  40.109027  58.851042  73.954764   \n",
       "\n",
       "            max  \n",
       "SO2   34.963988  \n",
       "NO2   77.823441  \n",
       "NO   105.695832  \n",
       "O3   132.073750  "
      ]
     },
     "execution_count": 9,
     "metadata": {},
     "output_type": "execute_result"
    }
   ],
   "source": [
    "data.describe().T"
   ]
  },
  {
   "cell_type": "markdown",
   "metadata": {},
   "source": [
    "## IV. Aşama - Model Kurma:"
   ]
  },
  {
   "cell_type": "markdown",
   "metadata": {},
   "source": [
    "## Verileri scale etme yani 0-1"
   ]
  },
  {
   "cell_type": "code",
   "execution_count": 46,
   "metadata": {},
   "outputs": [
    {
     "data": {
      "text/plain": [
       "array([[0.5344526],\n",
       "       [0.5007294],\n",
       "       [0.5083195],\n",
       "       [0.5857755],\n",
       "       [0.4329063]], dtype=float32)"
      ]
     },
     "execution_count": 46,
     "metadata": {},
     "output_type": "execute_result"
    }
   ],
   "source": [
    "values = data['O3'].values.reshape(-1,1)\n",
    "values = values.astype('float32')\n",
    "scaler = MinMaxScaler(feature_range=(0, 1))\n",
    "dataset = scaler.fit_transform(values)\n",
    "# Birkaç Değere Bakalım\n",
    "dataset[0:5]"
   ]
  },
  {
   "cell_type": "code",
   "execution_count": 47,
   "metadata": {},
   "outputs": [
    {
     "name": "stdout",
     "output_type": "stream",
     "text": [
      "Gün Sayıları (training set, test set): (740, 494)\n"
     ]
    }
   ],
   "source": [
    "TRAIN_SIZE = 0.60\n",
    "train_size = int(len(dataset) * TRAIN_SIZE)\n",
    "test_size = len(dataset) - train_size\n",
    "train, test = dataset[0:train_size, :], dataset[train_size:len(dataset), :]\n",
    "print(\"Gün Sayıları (training set, test set): \" + str((len(train), len(test))))"
   ]
  },
  {
   "cell_type": "markdown",
   "metadata": {},
   "source": [
    "## Buradaki mantık son güne bakıp diğer günü tahmin etmesi şeklinde"
   ]
  },
  {
   "cell_type": "code",
   "execution_count": 48,
   "metadata": {},
   "outputs": [],
   "source": [
    "def create_dataset(dataset, window_size = 1):\n",
    "    data_X, data_Y = [], []\n",
    "    for i in range(len(dataset) - window_size - 1):\n",
    "        a = dataset[i:(i + window_size), 0]\n",
    "        data_X.append(a)\n",
    "        data_Y.append(dataset[i + window_size, 0])\n",
    "    return(np.array(data_X), np.array(data_Y))"
   ]
  },
  {
   "cell_type": "code",
   "execution_count": 49,
   "metadata": {},
   "outputs": [
    {
     "name": "stdout",
     "output_type": "stream",
     "text": [
      "Original training data shape:\n",
      "(738, 1)\n"
     ]
    }
   ],
   "source": [
    "# Verisetlerimizi Oluşturalım\n",
    "window_size = 1\n",
    "train_X, train_Y = create_dataset(train, window_size)\n",
    "test_X, test_Y = create_dataset(test, window_size)\n",
    "print(\"Original training data shape:\")\n",
    "print(train_X.shape)"
   ]
  },
  {
   "cell_type": "code",
   "execution_count": 50,
   "metadata": {},
   "outputs": [
    {
     "name": "stdout",
     "output_type": "stream",
     "text": [
      "New training data shape:\n",
      "(738, 1, 1)\n"
     ]
    }
   ],
   "source": [
    "# Yeni verisetinin şekline bakalım.\n",
    "train_X = np.reshape(train_X, (train_X.shape[0], 1, train_X.shape[1]))\n",
    "test_X = np.reshape(test_X, (test_X.shape[0], 1, test_X.shape[1]))\n",
    "print(\"New training data shape:\")\n",
    "print(train_X.shape)"
   ]
  },
  {
   "cell_type": "markdown",
   "metadata": {},
   "source": [
    "## Şimdi ise LSTM Modelimizi kuralım."
   ]
  },
  {
   "cell_type": "code",
   "execution_count": 51,
   "metadata": {},
   "outputs": [
    {
     "name": "stdout",
     "output_type": "stream",
     "text": [
      "Epoch 1/30\n",
      "738/738 [==============================] - 2s 3ms/step - loss: 0.0227\n",
      "Epoch 2/30\n",
      "738/738 [==============================] - 2s 2ms/step - loss: 0.0122\n",
      "Epoch 3/30\n",
      "738/738 [==============================] - 2s 2ms/step - loss: 0.0120\n",
      "Epoch 4/30\n",
      "738/738 [==============================] - 2s 3ms/step - loss: 0.0122\n",
      "Epoch 5/30\n",
      "738/738 [==============================] - 2s 2ms/step - loss: 0.0121\n",
      "Epoch 6/30\n",
      "738/738 [==============================] - 2s 3ms/step - loss: 0.0120\n",
      "Epoch 7/30\n",
      "738/738 [==============================] - 2s 3ms/step - loss: 0.0120\n",
      "Epoch 8/30\n",
      "738/738 [==============================] - 2s 2ms/step - loss: 0.0121\n",
      "Epoch 9/30\n",
      "738/738 [==============================] - 2s 3ms/step - loss: 0.0120\n",
      "Epoch 10/30\n",
      "738/738 [==============================] - 2s 2ms/step - loss: 0.0119\n",
      "Epoch 11/30\n",
      "738/738 [==============================] - 2s 2ms/step - loss: 0.0121\n",
      "Epoch 12/30\n",
      "738/738 [==============================] - 2s 2ms/step - loss: 0.0120\n",
      "Epoch 13/30\n",
      "738/738 [==============================] - 2s 2ms/step - loss: 0.0120\n",
      "Epoch 14/30\n",
      "738/738 [==============================] - 2s 3ms/step - loss: 0.0119\n",
      "Epoch 15/30\n",
      "738/738 [==============================] - 2s 2ms/step - loss: 0.0120\n",
      "Epoch 16/30\n",
      "738/738 [==============================] - 2s 3ms/step - loss: 0.0117\n",
      "Epoch 17/30\n",
      "738/738 [==============================] - 2s 3ms/step - loss: 0.0120\n",
      "Epoch 18/30\n",
      "738/738 [==============================] - 2s 2ms/step - loss: 0.0119\n",
      "Epoch 19/30\n",
      "738/738 [==============================] - 2s 3ms/step - loss: 0.0120\n",
      "Epoch 20/30\n",
      "738/738 [==============================] - 2s 2ms/step - loss: 0.0117\n",
      "Epoch 21/30\n",
      "738/738 [==============================] - 2s 3ms/step - loss: 0.0119\n",
      "Epoch 22/30\n",
      "738/738 [==============================] - 2s 2ms/step - loss: 0.0120\n",
      "Epoch 23/30\n",
      "738/738 [==============================] - 2s 3ms/step - loss: 0.0119\n",
      "Epoch 24/30\n",
      "738/738 [==============================] - 2s 3ms/step - loss: 0.0119\n",
      "Epoch 25/30\n",
      "738/738 [==============================] - 2s 2ms/step - loss: 0.0117\n",
      "Epoch 26/30\n",
      "738/738 [==============================] - 2s 3ms/step - loss: 0.0118\n",
      "Epoch 27/30\n",
      "738/738 [==============================] - 2s 2ms/step - loss: 0.0120\n",
      "Epoch 28/30\n",
      "738/738 [==============================] - 2s 3ms/step - loss: 0.0119\n",
      "Epoch 29/30\n",
      "738/738 [==============================] - 2s 2ms/step - loss: 0.0118\n",
      "Epoch 30/30\n",
      "738/738 [==============================] - 2s 2ms/step - loss: 0.0120\n"
     ]
    }
   ],
   "source": [
    "def fit_model(train_X, train_Y, window_size = 1):\n",
    "    model = Sequential()\n",
    "    # Modelin tek layerlı şekilde kurulacak.\n",
    "    model.add(LSTM(100, \n",
    "                   input_shape = (1, window_size)))\n",
    "    model.add(Dense(1))\n",
    "    model.compile(loss = \"mean_squared_error\", \n",
    "                  optimizer = \"adam\")\n",
    "   #30 epoch yani 30 kere verisetine bakılacak.\n",
    "    model.fit(train_X, \n",
    "              train_Y, \n",
    "              epochs = 30, \n",
    "              batch_size = 1, \n",
    "              verbose = 1)\n",
    "    \n",
    "    return(model)\n",
    "# Fit the first model.\n",
    "model1 = fit_model(train_X, train_Y, window_size)"
   ]
  },
  {
   "cell_type": "markdown",
   "metadata": {},
   "source": [
    "## V. Aşama - Geleceğe Yönelik Veri Tahmini:"
   ]
  },
  {
   "cell_type": "code",
   "execution_count": 52,
   "metadata": {},
   "outputs": [
    {
     "name": "stdout",
     "output_type": "stream",
     "text": [
      "Training data score: 14.10 RMSE\n",
      "Test data score: 15.64 RMSE\n"
     ]
    }
   ],
   "source": [
    "def predict_and_score(model, X, Y):\n",
    "    # Şimdi tahminleri 0-1 ile scale edilmiş halinden geri çeviriyoruz.\n",
    "    pred = scaler.inverse_transform(model.predict(X))\n",
    "    orig_data = scaler.inverse_transform([Y])\n",
    "    # Rmse değerlerini ölçüyoruz.\n",
    "    score = math.sqrt(mean_squared_error(orig_data[0], pred[:, 0]))\n",
    "    return(score, pred)\n",
    "rmse_train, train_predict = predict_and_score(model1, train_X, train_Y)\n",
    "rmse_test, test_predict = predict_and_score(model1, test_X, test_Y)\n",
    "print(\"Training data score: %.2f RMSE\" % rmse_train)\n",
    "print(\"Test data score: %.2f RMSE\" % rmse_test)"
   ]
  },
  {
   "cell_type": "code",
   "execution_count": 54,
   "metadata": {},
   "outputs": [
    {
     "data": {
      "image/png": "[encoded data removed]",
      "text/plain": [
       "<Figure size 1080x360 with 1 Axes>"
      ]
     },
     "metadata": {
      "needs_background": "light"
     },
     "output_type": "display_data"
    }
   ],
   "source": [
    "# Öğrendiklerinini tahminletip ekliyoruz.\n",
    "train_predict_plot = np.empty_like(dataset)\n",
    "train_predict_plot[:, :] = np.nan\n",
    "train_predict_plot[window_size:len(train_predict) + window_size, :] = train_predict\n",
    "# Şimdi ise testleri tahminletiyoruz.\n",
    "test_predict_plot = np.empty_like(dataset)\n",
    "test_predict_plot[:, :] = np.nan\n",
    "test_predict_plot[len(train_predict) + (window_size * 2) + 1:len(dataset) - 1, :] = test_predict\n",
    "# Plot'u oluşturalım.\n",
    "plt.figure(figsize = (15, 5))\n",
    "plt.plot(scaler.inverse_transform(dataset), label = \"Tahmin\")\n",
    "plt.plot(train_predict_plot, label = \"Test\")\n",
    "plt.plot(test_predict_plot, label = \"Gerçek Değer\")\n",
    "plt.xlabel(\"Günler\")\n",
    "plt.ylabel(\"O3\")\n",
    "plt.title(\"Doğru ile öngörülen eğitim / test karşılaştırması\")\n",
    "plt.legend()\n",
    "plt.show()"
   ]
  }
 ],
 "metadata": {
  "kernelspec": {
   "display_name": "Python 3",
   "language": "python",
   "name": "python3"
  },
  "language_info": {
   "codemirror_mode": {
    "name": "ipython",
    "version": 3
   },
   "file_extension": ".py",
   "mimetype": "text/x-python",
   "name": "python",
   "nbconvert_exporter": "python",
   "pygments_lexer": "ipython3",
   "version": "3.7.4"
  }
 },
 "nbformat": 4,
 "nbformat_minor": 4
}
